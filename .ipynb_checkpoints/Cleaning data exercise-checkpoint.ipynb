{
 "cells": [
  {
   "cell_type": "markdown",
   "id": "2b90e0d2",
   "metadata": {},
   "source": [
    "### BL_Flicker_Images_book dataframe"
   ]
  },
  {
   "cell_type": "code",
   "execution_count": 6,
   "id": "adc3b3d8",
   "metadata": {},
   "outputs": [],
   "source": [
    "import numpy as np\n",
    "import pandas as pd"
   ]
  },
  {
   "cell_type": "code",
   "execution_count": 14,
   "id": "17a4f549",
   "metadata": {},
   "outputs": [
    {
     "name": "stderr",
     "output_type": "stream",
     "text": [
      "C:\\Users\\sahal\\AppData\\Local\\Temp\\ipykernel_4596\\2313778507.py:41: FutureWarning: The default value of regex will change from True to False in a future version. In addition, single character regular expressions will *not* be treated as literal strings when regex=True.\n",
      "  gradesdf['Title'] = gradesdf['Title'].str.replace('[','')\n",
      "C:\\Users\\sahal\\AppData\\Local\\Temp\\ipykernel_4596\\2313778507.py:42: FutureWarning: The default value of regex will change from True to False in a future version. In addition, single character regular expressions will *not* be treated as literal strings when regex=True.\n",
      "  gradesdf['Title'] = gradesdf['Title'].str.replace(']','')\n",
      "C:\\Users\\sahal\\AppData\\Local\\Temp\\ipykernel_4596\\2313778507.py:43: FutureWarning: The default value of regex will change from True to False in a future version.\n",
      "  gradesdf['Title'] = gradesdf['Title'].str.replace(r'(?<=.)+\\s*By.*','')\n",
      "C:\\Users\\sahal\\AppData\\Local\\Temp\\ipykernel_4596\\2313778507.py:44: FutureWarning: The default value of regex will change from True to False in a future version.\n",
      "  gradesdf['Title'] = gradesdf['Title'].str.replace(r'\\.?','')\n"
     ]
    },
    {
     "data": {
      "text/plain": [
       "'The Works of the late Right Honourable Joseph Addison, Esq  The third edition, etc Edited by Thomas Tickell: Works'"
      ]
     },
     "execution_count": 14,
     "metadata": {},
     "output_type": "execute_result"
    }
   ],
   "source": [
    "# Upload the dataset\n",
    "gradesdf = pd.read_csv('python-data-cleaning-master/Datasets/BL-Flickr-Images-Book.csv')\n",
    "gradesdf.head()\n",
    "\n",
    "# Drop the followings columns,\n",
    "# Edition Statement, Corporate Author, Corporate Contributors, Former owner, Engraver, Issuance type and Shelfmarks\n",
    "# gradesdf.drop(['Edition Statement','Corporate Author','Corporate Contributors','Former owner','Engraver',\n",
    "#                          'Issuance type','Shelfmarks'],\n",
    "#                          axis='columns', inplace=True)\n",
    "\n",
    "# alternative way (more readable)\n",
    "gradesdf.drop(columns=['Edition Statement','Corporate Author','Corporate Contributors','Former owner','Engraver',\n",
    "                         'Issuance type','Shelfmarks'], inplace=True)\n",
    "\n",
    "# Changing the index of a dataframe\n",
    "gradesdf['Identifier'].is_unique\n",
    "# => True\n",
    "gradesdf.set_index('Identifier', inplace=True)\n",
    "# play around\n",
    "# gradesdf.head().loc[480,'Date of Publication']\n",
    "# #=> '1857'\n",
    "# gradesdf.head()[['Date of Publication']].loc[480].values[0]\n",
    "# #=> '1857'\n",
    "# gradesdf.head().loc[480]['Date of Publication']\n",
    "# #=> '1857'\n",
    "\n",
    "# Tidying up Fields in the Data\n",
    "import re\n",
    "gradesdf.loc[1905:, 'Date of Publication'].head(20)\n",
    "# take(extract/group) only the first four numbers (the year)\n",
    "gradesdf['Date of Publication'] = gradesdf['Date of Publication'].str.extract(r'^(\\d{4})')\n",
    "# change column type to numeric type\n",
    "gradesdf['Date of Publication'] = pd.to_numeric(gradesdf['Date of Publication'])\n",
    "\n",
    "# Combining str Methods with NumPy to Clean Columns\n",
    "# clean the publication place\n",
    "gradesdf['Place of Publication'] = np.where(gradesdf['Place of Publication'].str.contains('London'), 'London',\n",
    "                                           np.where(gradesdf['Place of Publication'].str.contains('Oxford'), 'Oxford',\n",
    "                                                   gradesdf['Place of Publication'].str.replace('-',' ')))\n",
    "# play around اجتهاد  :) still need to learn the format of the titling more.\n",
    "gradesdf['Title'] = gradesdf['Title'].str.replace('[','')\n",
    "gradesdf['Title'] = gradesdf['Title'].str.replace(']','')\n",
    "gradesdf['Title'] = gradesdf['Title'].str.replace(r'(?<=.)+\\s*By.*','')\n",
    "gradesdf['Title'] = gradesdf['Title'].str.replace(r'\\.?','')\n",
    "\n",
    "\n",
    "\n",
    "gradesdf.head(60)\n",
    "gradesdf.loc[18173,'Title']"
   ]
  },
  {
   "cell_type": "markdown",
   "id": "d7849f18",
   "metadata": {},
   "source": [
    "### univerisity_towns.txt dataframe"
   ]
  },
  {
   "cell_type": "code",
   "execution_count": 183,
   "id": "0cf58882",
   "metadata": {
    "scrolled": false
   },
   "outputs": [
    {
     "data": {
      "text/html": [
       "<div>\n",
       "<style scoped>\n",
       "    .dataframe tbody tr th:only-of-type {\n",
       "        vertical-align: middle;\n",
       "    }\n",
       "\n",
       "    .dataframe tbody tr th {\n",
       "        vertical-align: top;\n",
       "    }\n",
       "\n",
       "    .dataframe thead th {\n",
       "        text-align: right;\n",
       "    }\n",
       "</style>\n",
       "<table border=\"1\" class=\"dataframe\">\n",
       "  <thead>\n",
       "    <tr style=\"text-align: right;\">\n",
       "      <th></th>\n",
       "      <th>State</th>\n",
       "      <th>Region</th>\n",
       "    </tr>\n",
       "  </thead>\n",
       "  <tbody>\n",
       "    <tr>\n",
       "      <th>0</th>\n",
       "      <td>Alabama</td>\n",
       "      <td>Auburn</td>\n",
       "    </tr>\n",
       "    <tr>\n",
       "      <th>1</th>\n",
       "      <td>Alabama</td>\n",
       "      <td>Florence</td>\n",
       "    </tr>\n",
       "    <tr>\n",
       "      <th>2</th>\n",
       "      <td>Alabama</td>\n",
       "      <td>Jacksonville</td>\n",
       "    </tr>\n",
       "    <tr>\n",
       "      <th>3</th>\n",
       "      <td>Alabama</td>\n",
       "      <td>Livingston</td>\n",
       "    </tr>\n",
       "    <tr>\n",
       "      <th>4</th>\n",
       "      <td>Alabama</td>\n",
       "      <td>Montevallo</td>\n",
       "    </tr>\n",
       "    <tr>\n",
       "      <th>...</th>\n",
       "      <td>...</td>\n",
       "      <td>...</td>\n",
       "    </tr>\n",
       "    <tr>\n",
       "      <th>512</th>\n",
       "      <td>Wisconsin</td>\n",
       "      <td>River Falls</td>\n",
       "    </tr>\n",
       "    <tr>\n",
       "      <th>513</th>\n",
       "      <td>Wisconsin</td>\n",
       "      <td>Stevens Point</td>\n",
       "    </tr>\n",
       "    <tr>\n",
       "      <th>514</th>\n",
       "      <td>Wisconsin</td>\n",
       "      <td>Waukesha</td>\n",
       "    </tr>\n",
       "    <tr>\n",
       "      <th>515</th>\n",
       "      <td>Wisconsin</td>\n",
       "      <td>Whitewater</td>\n",
       "    </tr>\n",
       "    <tr>\n",
       "      <th>516</th>\n",
       "      <td>Wyoming</td>\n",
       "      <td>Laramie</td>\n",
       "    </tr>\n",
       "  </tbody>\n",
       "</table>\n",
       "<p>517 rows × 2 columns</p>\n",
       "</div>"
      ],
      "text/plain": [
       "         State          Region\n",
       "0      Alabama         Auburn \n",
       "1      Alabama       Florence \n",
       "2      Alabama   Jacksonville \n",
       "3      Alabama     Livingston \n",
       "4      Alabama     Montevallo \n",
       "..         ...             ...\n",
       "512  Wisconsin    River Falls \n",
       "513  Wisconsin  Stevens Point \n",
       "514  Wisconsin       Waukesha \n",
       "515  Wisconsin     Whitewater \n",
       "516    Wyoming        Laramie \n",
       "\n",
       "[517 rows x 2 columns]"
      ]
     },
     "execution_count": 183,
     "metadata": {},
     "output_type": "execute_result"
    }
   ],
   "source": [
    "# Cleaning the Entire Dataset Using the applymap Function\n",
    "uni_towns=[]\n",
    "with open('python-data-cleaning-master/Datasets/university_towns.txt') as file:\n",
    "    for line in file:\n",
    "        if '[edit]' in line:\n",
    "            state = line\n",
    "        else:\n",
    "            uni_towns.append((state, line))\n",
    "\n",
    "# change it to df\n",
    "townsdf = pd.DataFrame(uni_towns, columns=['State', 'Region'])\n",
    "townsdf\n",
    "\n",
    "# clean it by using applymap (rotate over each element in the df)\n",
    "def cleanit(item):\n",
    "    if ' (' in item:\n",
    "        return item[:item.find('(')]\n",
    "    elif '[' in item:\n",
    "        return item[:item.find('[')]\n",
    "    else:\n",
    "        return item\n",
    "townsdf = townsdf.applymap(cleanit)\n",
    "townsdf"
   ]
  },
  {
   "cell_type": "code",
   "execution_count": null,
   "id": "a9e04f5f",
   "metadata": {},
   "outputs": [],
   "source": []
  },
  {
   "cell_type": "code",
   "execution_count": null,
   "id": "61e8feaf",
   "metadata": {},
   "outputs": [],
   "source": []
  }
 ],
 "metadata": {
  "kernelspec": {
   "display_name": "Python 3 (ipykernel)",
   "language": "python",
   "name": "python3"
  },
  "language_info": {
   "codemirror_mode": {
    "name": "ipython",
    "version": 3
   },
   "file_extension": ".py",
   "mimetype": "text/x-python",
   "name": "python",
   "nbconvert_exporter": "python",
   "pygments_lexer": "ipython3",
   "version": "3.10.6"
  }
 },
 "nbformat": 4,
 "nbformat_minor": 5
}
