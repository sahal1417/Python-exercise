{
 "cells": [
  {
   "cell_type": "markdown",
   "id": "2b90e0d2",
   "metadata": {},
   "source": [
    "### BL_Flicker_Images_book dataframe"
   ]
  },
  {
   "cell_type": "code",
   "execution_count": 44,
   "id": "adc3b3d8",
   "metadata": {},
   "outputs": [],
   "source": [
    "import numpy as np\n",
    "import pandas as pd"
   ]
  },
  {
   "cell_type": "code",
   "execution_count": 45,
   "id": "17a4f549",
   "metadata": {},
   "outputs": [
    {
     "name": "stderr",
     "output_type": "stream",
     "text": [
      "C:\\Users\\sahal\\AppData\\Local\\Temp\\ipykernel_4596\\1393803992.py:49: FutureWarning: The default value of regex will change from True to False in a future version. In addition, single character regular expressions will *not* be treated as literal strings when regex=True.\n",
      "  gradesdf['Title'] = gradesdf['Title'].str.replace('[','')\n",
      "C:\\Users\\sahal\\AppData\\Local\\Temp\\ipykernel_4596\\1393803992.py:50: FutureWarning: The default value of regex will change from True to False in a future version. In addition, single character regular expressions will *not* be treated as literal strings when regex=True.\n",
      "  gradesdf['Title'] = gradesdf['Title'].str.replace(']','')\n",
      "C:\\Users\\sahal\\AppData\\Local\\Temp\\ipykernel_4596\\1393803992.py:51: FutureWarning: The default value of regex will change from True to False in a future version.\n",
      "  gradesdf['Title'] = gradesdf['Title'].str.replace(r'(?<=.)+\\s*By.*','')\n",
      "C:\\Users\\sahal\\AppData\\Local\\Temp\\ipykernel_4596\\1393803992.py:52: FutureWarning: The default value of regex will change from True to False in a future version.\n",
      "  gradesdf['Title'] = gradesdf['Title'].str.replace(r'\\.?','')\n"
     ]
    },
    {
     "data": {
      "text/plain": [
       "'The Works of the late Right Honourable Joseph Addison, Esq  The third edition, etc Edited by Thomas Tickell: Works'"
      ]
     },
     "execution_count": 45,
     "metadata": {},
     "output_type": "execute_result"
    }
   ],
   "source": [
    "# Upload the dataset\n",
    "#pppppppppppppppppppppppppppppppppppp&&&&&&&&&&\n",
    "# gradesdf = pd.read_csv('python-data-cleaning-master/Datasets/BL-Flickr-Images-Book.csv')\n",
    "# gradesdf.head()\n",
    "\n",
    "# Drop the followings columns,\n",
    "# Edition Statement, Corporate Author, Corporate Contributors, Former owner, Engraver, Issuance type and Shelfmarks\n",
    "# gradesdf.drop(['Edition Statement','Corporate Author','Corporate Contributors','Former owner','Engraver',\n",
    "#                          'Issuance type','Shelfmarks'],\n",
    "#                          axis='columns', inplace=True)\n",
    "\n",
    "# alternative way (more readable)\n",
    "#pppppppppppppppppppppppppppppppppppp&&&&&&&&&&\n",
    "# gradesdf.drop(columns=['Edition Statement','Corporate Author','Corporate Contributors','Former owner','Engraver',\n",
    "#                          'Issuance type','Shelfmarks'], inplace=True)\n",
    "\n",
    "# Changing the index of a dataframe\n",
    "#pppppppppppppppppppppppppppppppppppp&&&&&&&&&&\n",
    "# gradesdf['Identifier'].is_unique\n",
    "# # => True\n",
    "# gradesdf.set_index('Identifier', inplace=True)\n",
    "\n",
    "\n",
    "# play around\n",
    "# gradesdf.head().loc[480,'Date of Publication']\n",
    "# #=> '1857'\n",
    "# gradesdf.head()[['Date of Publication']].loc[480].values[0]\n",
    "# #=> '1857'\n",
    "# gradesdf.head().loc[480]['Date of Publication']\n",
    "# #=> '1857'\n",
    "\n",
    "# Tidying up Fields in the Data\n",
    "#pppppppppppppppppppppppppppppppppppp&&&&&&&&&&\n",
    "# import re\n",
    "# gradesdf.loc[1905:, 'Date of Publication'].head(20)\n",
    "# # take(extract/group) only the first four numbers (the year)\n",
    "# gradesdf['Date of Publication'] = gradesdf['Date of Publication'].str.extract(r'^(\\d{4})')\n",
    "# # change column type to numeric type\n",
    "# gradesdf['Date of Publication'] = pd.to_numeric(gradesdf['Date of Publication'])\n",
    "\n",
    "#pppppppppppppppppppppppppppppppppppp&&&&&&&&&&\n",
    "# # Combining str Methods with NumPy to Clean Columns\n",
    "# # clean the publication place\n",
    "# gradesdf['Place of Publication'] = np.where(gradesdf['Place of Publication'].str.contains('London'), 'London',\n",
    "#                                            np.where(gradesdf['Place of Publication'].str.contains('Oxford'), 'Oxford',\n",
    "#                                                    gradesdf['Place of Publication'].str.replace('-',' ')))\n",
    "\n",
    "# play around اجتهاد  :) still need to learn the format of the titling more.\n",
    "gradesdf['Title'] = gradesdf['Title'].str.replace('[','')\n",
    "gradesdf['Title'] = gradesdf['Title'].str.replace(']','')\n",
    "gradesdf['Title'] = gradesdf['Title'].str.replace(r'(?<=.)+\\s*By.*','')\n",
    "gradesdf['Title'] = gradesdf['Title'].str.replace(r'\\.?','')\n",
    "\n",
    "\n",
    "\n",
    "gradesdf.head(60)\n",
    "gradesdf.loc[18173,'Title']"
   ]
  },
  {
   "cell_type": "markdown",
   "id": "d7849f18",
   "metadata": {},
   "source": [
    "### univerisity_towns.txt dataframe"
   ]
  },
  {
   "cell_type": "code",
   "execution_count": 46,
   "id": "0cf58882",
   "metadata": {
    "scrolled": false
   },
   "outputs": [],
   "source": [
    "# Cleaning the Entire Dataset Using the applymap Function\n",
    "#pppppppppppppppppppppppppppppppppppp&&&&&&&&&&\n",
    "# uni_towns=[]\n",
    "# with open('python-data-cleaning-master/Datasets/university_towns.txt') as file:\n",
    "#     for line in file:\n",
    "#         if '[edit]' in line:\n",
    "#             state = line\n",
    "#         else:\n",
    "#             uni_towns.append((state, line))\n",
    "\n",
    "#pppppppppppppppppppppppppppppppppppp&&&&&&&&&&\n",
    "# # change it to df\n",
    "# townsdf = pd.DataFrame(uni_towns, columns=['State', 'Region'])\n",
    "# townsdf\n",
    "\n",
    "#pppppppppppppppppppppppppppppppppppp&&&&&&&&&&\n",
    "# clean it by using applymap (rotate over each element in the df)\n",
    "# def cleanit(item):\n",
    "#     if ' (' in item:\n",
    "#         return item[:item.find('(')]\n",
    "#     elif '[' in item:\n",
    "#         return item[:item.find('[')]\n",
    "#     else:\n",
    "#         return item\n",
    "# townsdf = townsdf.applymap(cleanit)\n",
    "# townsdf\n",
    "\n"
   ]
  },
  {
   "cell_type": "markdown",
   "id": "606dacd3",
   "metadata": {},
   "source": [
    "### Olympic dataframe"
   ]
  },
  {
   "cell_type": "code",
   "execution_count": 47,
   "id": "61e8feaf",
   "metadata": {},
   "outputs": [],
   "source": [
    "#pppppppppppppppppppppppppppppppppppp&&&&&&&&&&\n",
    "# olympics = pd.read_csv('python-data-cleaning-master/Datasets/olympics.csv', skiprows=1, skipfooter=1)\n",
    "# or we can use head=1 instead\n",
    "#pppppppppppppppppppppppppppppppppppp&&&&&&&&&&\n",
    "# new_names =  {'Unnamed: 0': 'Country',\n",
    "#                '? Summer': 'Summer Olympics',\n",
    "#                '01 !': 'Gold',\n",
    "#                '02 !': 'Silver',\n",
    "#                '03 !': 'Bronze',\n",
    "#                '? Winter': 'Winter Olympics',\n",
    "#                '01 !.1': 'Gold.1',\n",
    "#                '02 !.1': 'Silver.1',\n",
    "#                '03 !.1': 'Bronze.1',\n",
    "#                '? Games': '# Games',\n",
    "#               '01 !.2': 'Gold.2',\n",
    "#                '02 !.2': 'Silver.2',\n",
    "#                '03 !.2': 'Bronze.2'}\n",
    "\n",
    "\n",
    "# olympics.rename(columns=new_names, inplace=True)\n",
    "# olympics"
   ]
  },
  {
   "cell_type": "code",
   "execution_count": null,
   "id": "e6494574",
   "metadata": {},
   "outputs": [],
   "source": []
  }
 ],
 "metadata": {
  "kernelspec": {
   "display_name": "Python 3 (ipykernel)",
   "language": "python",
   "name": "python3"
  },
  "language_info": {
   "codemirror_mode": {
    "name": "ipython",
    "version": 3
   },
   "file_extension": ".py",
   "mimetype": "text/x-python",
   "name": "python",
   "nbconvert_exporter": "python",
   "pygments_lexer": "ipython3",
   "version": "3.10.6"
  }
 },
 "nbformat": 4,
 "nbformat_minor": 5
}
